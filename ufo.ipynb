{
 "cells": [
  {
   "cell_type": "markdown",
   "metadata": {},
   "source": [
    "## Dataset avvistamenti UFO\n",
    "\n",
    "**Attenzione**: Nelle date (campo 'datetime') è presente anche come ora 24:xx che però causa problemi con \n",
    "        tutto quello che parsa le date. Ho fatto 'sostituisci tutto' 24 -> 00 ma non è proprio corretto\n",
    "        perchè bisogna anche aumentare il giorno"
   ]
  },
  {
   "cell_type": "code",
   "execution_count": 1,
   "metadata": {},
   "outputs": [],
   "source": [
    "import pandas as pd\n",
    "import numpy as np\n",
    "import matplotlib.pyplot as plt\n",
    "\n",
    "%matplotlib inline"
   ]
  },
  {
   "cell_type": "code",
   "execution_count": 2,
   "metadata": {},
   "outputs": [
    {
     "data": {
      "text/html": [
       "<div>\n",
       "<style scoped>\n",
       "    .dataframe tbody tr th:only-of-type {\n",
       "        vertical-align: middle;\n",
       "    }\n",
       "\n",
       "    .dataframe tbody tr th {\n",
       "        vertical-align: top;\n",
       "    }\n",
       "\n",
       "    .dataframe thead th {\n",
       "        text-align: right;\n",
       "    }\n",
       "</style>\n",
       "<table border=\"1\" class=\"dataframe\">\n",
       "  <thead>\n",
       "    <tr style=\"text-align: right;\">\n",
       "      <th></th>\n",
       "      <th>datetime</th>\n",
       "      <th>city</th>\n",
       "      <th>state</th>\n",
       "      <th>country</th>\n",
       "      <th>shape</th>\n",
       "      <th>duration (seconds)</th>\n",
       "      <th>duration (hours/min)</th>\n",
       "      <th>comments</th>\n",
       "      <th>date posted</th>\n",
       "      <th>latitude</th>\n",
       "      <th>longitude</th>\n",
       "    </tr>\n",
       "  </thead>\n",
       "  <tbody>\n",
       "    <tr>\n",
       "      <th>0</th>\n",
       "      <td>10/10/1949 20:30</td>\n",
       "      <td>san marcos</td>\n",
       "      <td>tx</td>\n",
       "      <td>us</td>\n",
       "      <td>cylinder</td>\n",
       "      <td>2700.0</td>\n",
       "      <td>45 minutes</td>\n",
       "      <td>This event took place in early fall around 194...</td>\n",
       "      <td>4/27/2004</td>\n",
       "      <td>29.883056</td>\n",
       "      <td>-97.941111</td>\n",
       "    </tr>\n",
       "    <tr>\n",
       "      <th>1</th>\n",
       "      <td>10/10/1949 21:00</td>\n",
       "      <td>lackland afb</td>\n",
       "      <td>tx</td>\n",
       "      <td>NaN</td>\n",
       "      <td>light</td>\n",
       "      <td>7200.0</td>\n",
       "      <td>1-2 hrs</td>\n",
       "      <td>1949 Lackland AFB&amp;#44 TX.  Lights racing acros...</td>\n",
       "      <td>12/16/2005</td>\n",
       "      <td>29.384210</td>\n",
       "      <td>-98.581082</td>\n",
       "    </tr>\n",
       "  </tbody>\n",
       "</table>\n",
       "</div>"
      ],
      "text/plain": [
       "           datetime          city state country     shape  duration (seconds)  \\\n",
       "0  10/10/1949 20:30    san marcos    tx      us  cylinder              2700.0   \n",
       "1  10/10/1949 21:00  lackland afb    tx     NaN     light              7200.0   \n",
       "\n",
       "  duration (hours/min)                                           comments  \\\n",
       "0           45 minutes  This event took place in early fall around 194...   \n",
       "1              1-2 hrs  1949 Lackland AFB&#44 TX.  Lights racing acros...   \n",
       "\n",
       "  date posted   latitude  longitude  \n",
       "0   4/27/2004  29.883056 -97.941111  \n",
       "1  12/16/2005  29.384210 -98.581082  "
      ]
     },
     "execution_count": 2,
     "metadata": {},
     "output_type": "execute_result"
    }
   ],
   "source": [
    "DATASET = 'ufos.csv'\n",
    "data = pd.read_csv(DATASET)\n",
    "data[:2]"
   ]
  },
  {
   "cell_type": "code",
   "execution_count": null,
   "metadata": {},
   "outputs": [],
   "source": [
    "# Questo \"aggiusta\" il dataset originale e scrive un'altro file con i campi numerici\n",
    "# aggiustati. L'originale ha dello sporco nei numeri\n",
    "\n",
    "def fix_dataset():\n",
    "    import csv\n",
    "\n",
    "    def fix_row(row):\n",
    "        def fix_value(x):\n",
    "            return ''.join([c for c in str(x) if c.isdigit() or c in '+-.'])\n",
    "        try:\n",
    "            row[5] = fix_value(row[5])\n",
    "            row[9] = fix_value(row[9])\n",
    "        except ValueError:\n",
    "            print('WARN: ', row)\n",
    "        return row\n",
    "\n",
    "    with open(DATASET, 'r') as dataset:\n",
    "        reader = csv.reader(dataset)\n",
    "        with open(f'fixed_{DATASET}', 'w') as out:\n",
    "            out.write(','.join(next(reader)))\n",
    "            out.write('\\n')\n",
    "            for row in reader:\n",
    "                out.write(','.join(fix_row(row)))\n",
    "                out.write('\\n')"
   ]
  },
  {
   "cell_type": "code",
   "execution_count": 3,
   "metadata": {},
   "outputs": [],
   "source": [
    "# Questo è leeeento\n",
    "datetimes = pd.to_datetime(data['datetime'])"
   ]
  },
  {
   "cell_type": "code",
   "execution_count": null,
   "metadata": {},
   "outputs": [],
   "source": [
    "counts = datetimes.dt.hour.value_counts()"
   ]
  },
  {
   "cell_type": "code",
   "execution_count": 57,
   "metadata": {},
   "outputs": [
    {
     "data": {
      "image/png": "[encoded data removed]",
      "text/plain": [
       "<Figure size 1296x576 with 1 Axes>"
      ]
     },
     "metadata": {
      "needs_background": "light"
     },
     "output_type": "display_data"
    }
   ],
   "source": [
    "gradients = [\n",
    "    (0, 26, 38), (0, 35, 57), (16, 44, 76), (42, 50, 93), \n",
    "    (71, 55, 107), (102, 57, 115), (134, 57, 118), (164, 56, 114), \n",
    "    (192, 59, 105), (214, 67, 90), (230, 83, 72), (238, 104, 50), \n",
    "    (239, 129, 14)\n",
    "]\n",
    "gradients = [(r/255, g/255, b/255, 1.0) for (r, g, b) in gradients]\n",
    "gradients = gradients + list(reversed(gradients[:-1]))\n",
    "\n",
    "plt.figure(figsize=(18, 8))\n",
    "plt.title('UFO sightings per hour of day')\n",
    "bars = plt.bar(counts.index, counts.get_values())\n",
    "labels = [f'{h}:00' for h in range(0, 24)]\n",
    "plt.xticks(range(len(labels)), labels)\n",
    "\n",
    "for bar_i, index in enumerate(counts.index):\n",
    "    bars[bar_i].set_color(gradients[index])\n",
    "plt.show()"
   ]
  }
 ],
 "metadata": {
  "kernelspec": {
   "display_name": "Python 3",
   "language": "python",
   "name": "python3"
  },
  "language_info": {
   "codemirror_mode": {
    "name": "ipython",
    "version": 3
   },
   "file_extension": ".py",
   "mimetype": "text/x-python",
   "name": "python",
   "nbconvert_exporter": "python",
   "pygments_lexer": "ipython3",
   "version": "3.7.0"
  }
 },
 "nbformat": 4,
 "nbformat_minor": 2
}
